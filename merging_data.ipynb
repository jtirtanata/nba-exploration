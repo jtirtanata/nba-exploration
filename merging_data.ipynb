{
 "cells": [
  {
   "cell_type": "code",
   "execution_count": 1,
   "metadata": {
    "collapsed": false
   },
   "outputs": [],
   "source": [
    "# Scraping info from additional links\n",
    "from bs4 import BeautifulSoup\n",
    "import requests\n",
    "import pandas as pd\n",
    "import numpy as np\n",
    "import re\n",
    "import time\n",
    "import pickle\n",
    "\n",
    "from sklearn.linear_model import LinearRegression"
   ]
  },
  {
   "cell_type": "code",
   "execution_count": 2,
   "metadata": {
    "collapsed": true
   },
   "outputs": [],
   "source": [
    "player_measurement  = pd.read_csv('data/player_measurement.csv', index_col=0)\n",
    "draft_df = pd.read_csv('data/draft_info.csv', index_col=0)"
   ]
  },
  {
   "cell_type": "code",
   "execution_count": 3,
   "metadata": {
    "collapsed": true
   },
   "outputs": [],
   "source": [
    "add_data  = pd.read_csv('data/additional_data.csv', index_col=0)\n",
    "add_draft_data = pd.read_csv('data/additional_draft_data.csv', index_col=0)"
   ]
  },
  {
   "cell_type": "code",
   "execution_count": 4,
   "metadata": {
    "collapsed": true
   },
   "outputs": [],
   "source": [
    "salary_df = pd.read_csv('data/salary_data.csv', index_col=0)"
   ]
  },
  {
   "cell_type": "markdown",
   "metadata": {},
   "source": [
    "# dealing with multiple names"
   ]
  },
  {
   "cell_type": "code",
   "execution_count": 5,
   "metadata": {
    "collapsed": true
   },
   "outputs": [],
   "source": [
    "def add_name_index(df):\n",
    "    df['name_index'] = 1\n",
    "    df['name_index'] = df.groupby('name')['name_index'].shift(1)\n",
    "    df.loc[df.name_index>0, 'name_index'] = df['name_index'] + 1\n",
    "    df.loc[df.name_index.isnull(), 'name_index'] =  1"
   ]
  },
  {
   "cell_type": "code",
   "execution_count": 6,
   "metadata": {
    "collapsed": false
   },
   "outputs": [],
   "source": [
    "add_name_index(draft_df)\n",
    "add_name_index(player_measurement)\n",
    "merged_df = pd.merge(draft_df, player_measurement, on=['name', 'name_index'], how='left')"
   ]
  },
  {
   "cell_type": "code",
   "execution_count": 7,
   "metadata": {
    "collapsed": true
   },
   "outputs": [],
   "source": [
    "add_name_index(add_data)\n",
    "add_name_index(add_draft_data)\n",
    "merged_add_df = pd.merge(add_data, add_draft_data, on=['name', 'name_index'], how='left')"
   ]
  },
  {
   "cell_type": "code",
   "execution_count": 8,
   "metadata": {
    "collapsed": false
   },
   "outputs": [
    {
     "name": "stdout",
     "output_type": "stream",
     "text": [
      "<class 'pandas.core.frame.DataFrame'>\n",
      "Int64Index: 938 entries, 0 to 937\n",
      "Data columns (total 37 columns):\n",
      "college          938 non-null object\n",
      "draft_rank       938 non-null int64\n",
      "draft_year       938 non-null int64\n",
      "height_in_x      0 non-null float64\n",
      "name             938 non-null object\n",
      "reach_in         0 non-null float64\n",
      "weight_lb_x      0 non-null float64\n",
      "wingspan_in      0 non-null float64\n",
      "name_index       938 non-null float64\n",
      "per              934 non-null float64\n",
      "no_of_seasons    934 non-null float64\n",
      "start_age        934 non-null float64\n",
      "end_age          934 non-null float64\n",
      "g                934 non-null float64\n",
      "mp               866 non-null float64\n",
      "fg               933 non-null float64\n",
      "fga              933 non-null float64\n",
      "fg3              461 non-null float64\n",
      "fg3a             461 non-null float64\n",
      "ft               933 non-null float64\n",
      "fta              933 non-null float64\n",
      "orb              0 non-null float64\n",
      "ast              615 non-null float64\n",
      "stl              742 non-null float64\n",
      "blk              739 non-null float64\n",
      "tov              726 non-null float64\n",
      "pf               739 non-null float64\n",
      "pts              934 non-null float64\n",
      "fg_pct           933 non-null float64\n",
      "fg3_pct          461 non-null float64\n",
      "ft_pct           933 non-null float64\n",
      "mp_per_g         866 non-null float64\n",
      "pts_per_g        934 non-null float64\n",
      "trb_per_g        933 non-null float64\n",
      "ast_per_g        615 non-null float64\n",
      "height_in_y      934 non-null float64\n",
      "weight_lb_y      934 non-null float64\n",
      "dtypes: float64(33), int64(2), object(2)\n",
      "memory usage: 278.5+ KB\n"
     ]
    }
   ],
   "source": [
    "merged_add_df.info()"
   ]
  },
  {
   "cell_type": "code",
   "execution_count": 9,
   "metadata": {
    "collapsed": false
   },
   "outputs": [
    {
     "name": "stdout",
     "output_type": "stream",
     "text": [
      "<class 'pandas.core.frame.DataFrame'>\n",
      "Int64Index: 807 entries, 0 to 806\n",
      "Data columns (total 35 columns):\n",
      "name             807 non-null object\n",
      "per              807 non-null object\n",
      "no_of_seasons    807 non-null float64\n",
      "start_age        807 non-null int64\n",
      "end_age          807 non-null int64\n",
      "g                807 non-null int64\n",
      "mp               754 non-null float64\n",
      "fg               807 non-null int64\n",
      "fga              807 non-null int64\n",
      "fg3              807 non-null int64\n",
      "fg3a             807 non-null int64\n",
      "ft               807 non-null int64\n",
      "fta              807 non-null int64\n",
      "orb              298 non-null float64\n",
      "ast              807 non-null int64\n",
      "stl              798 non-null float64\n",
      "blk              798 non-null float64\n",
      "tov              639 non-null float64\n",
      "pf               556 non-null float64\n",
      "pts              807 non-null int64\n",
      "fg_pct           807 non-null float64\n",
      "fg3_pct          753 non-null float64\n",
      "ft_pct           807 non-null float64\n",
      "mp_per_g         754 non-null float64\n",
      "pts_per_g        807 non-null float64\n",
      "trb_per_g        807 non-null float64\n",
      "ast_per_g        807 non-null float64\n",
      "name_index       807 non-null float64\n",
      "college          797 non-null object\n",
      "draft_rank       797 non-null float64\n",
      "draft_year       797 non-null float64\n",
      "height_in        601 non-null float64\n",
      "reach_in         533 non-null float64\n",
      "weight_lb        626 non-null object\n",
      "wingspan_in      563 non-null float64\n",
      "dtypes: float64(20), int64(11), object(4)\n",
      "memory usage: 227.0+ KB\n"
     ]
    }
   ],
   "source": [
    "merged_df.info()"
   ]
  },
  {
   "cell_type": "code",
   "execution_count": 10,
   "metadata": {
    "collapsed": false
   },
   "outputs": [
    {
     "data": {
      "text/html": [
       "<div>\n",
       "<table border=\"1\" class=\"dataframe\">\n",
       "  <thead>\n",
       "    <tr style=\"text-align: right;\">\n",
       "      <th></th>\n",
       "      <th>college</th>\n",
       "      <th>draft_rank</th>\n",
       "      <th>draft_year</th>\n",
       "      <th>height_in</th>\n",
       "      <th>name</th>\n",
       "      <th>reach_in</th>\n",
       "      <th>weight_lb</th>\n",
       "      <th>wingspan_in</th>\n",
       "      <th>name_index</th>\n",
       "    </tr>\n",
       "  </thead>\n",
       "  <tbody>\n",
       "    <tr>\n",
       "      <th>361</th>\n",
       "      <td>University of Connecticut</td>\n",
       "      <td>22</td>\n",
       "      <td>2006</td>\n",
       "      <td>NaN</td>\n",
       "      <td>Marcus Williams</td>\n",
       "      <td>NaN</td>\n",
       "      <td>NaN</td>\n",
       "      <td>NaN</td>\n",
       "      <td>1.0</td>\n",
       "    </tr>\n",
       "    <tr>\n",
       "      <th>413</th>\n",
       "      <td>University of Arizona</td>\n",
       "      <td>33</td>\n",
       "      <td>2007</td>\n",
       "      <td>NaN</td>\n",
       "      <td>Marcus Williams</td>\n",
       "      <td>NaN</td>\n",
       "      <td>NaN</td>\n",
       "      <td>NaN</td>\n",
       "      <td>2.0</td>\n",
       "    </tr>\n",
       "  </tbody>\n",
       "</table>\n",
       "</div>"
      ],
      "text/plain": [
       "                       college  draft_rank  draft_year  height_in  \\\n",
       "361  University of Connecticut          22        2006        NaN   \n",
       "413      University of Arizona          33        2007        NaN   \n",
       "\n",
       "                name  reach_in weight_lb  wingspan_in  name_index  \n",
       "361  Marcus Williams       NaN       NaN          NaN         1.0  \n",
       "413  Marcus Williams       NaN       NaN          NaN         2.0  "
      ]
     },
     "execution_count": 10,
     "metadata": {},
     "output_type": "execute_result"
    }
   ],
   "source": [
    "player_measurement[player_measurement.name == 'Marcus Williams']"
   ]
  },
  {
   "cell_type": "code",
   "execution_count": 11,
   "metadata": {
    "collapsed": true
   },
   "outputs": [],
   "source": [
    "final_df = merged_df.append(merged_add_df, ignore_index=True)"
   ]
  },
  {
   "cell_type": "code",
   "execution_count": 12,
   "metadata": {
    "collapsed": false
   },
   "outputs": [
    {
     "name": "stdout",
     "output_type": "stream",
     "text": [
      "<class 'pandas.core.frame.DataFrame'>\n",
      "RangeIndex: 1745 entries, 0 to 1744\n",
      "Data columns (total 39 columns):\n",
      "ast              1422 non-null float64\n",
      "ast_per_g        1422 non-null float64\n",
      "blk              1537 non-null float64\n",
      "college          1735 non-null object\n",
      "draft_rank       1735 non-null float64\n",
      "draft_year       1735 non-null float64\n",
      "end_age          1741 non-null float64\n",
      "fg               1740 non-null float64\n",
      "fg3              1268 non-null float64\n",
      "fg3_pct          1214 non-null float64\n",
      "fg3a             1268 non-null float64\n",
      "fg_pct           1740 non-null float64\n",
      "fga              1740 non-null float64\n",
      "ft               1740 non-null float64\n",
      "ft_pct           1740 non-null float64\n",
      "fta              1740 non-null float64\n",
      "g                1741 non-null float64\n",
      "height_in        601 non-null float64\n",
      "height_in_x      0 non-null float64\n",
      "height_in_y      934 non-null float64\n",
      "mp               1620 non-null float64\n",
      "mp_per_g         1620 non-null float64\n",
      "name             1745 non-null object\n",
      "name_index       1745 non-null float64\n",
      "no_of_seasons    1741 non-null float64\n",
      "orb              298 non-null float64\n",
      "per              1741 non-null object\n",
      "pf               1295 non-null float64\n",
      "pts              1741 non-null float64\n",
      "pts_per_g        1741 non-null float64\n",
      "reach_in         533 non-null float64\n",
      "start_age        1741 non-null float64\n",
      "stl              1540 non-null float64\n",
      "tov              1365 non-null float64\n",
      "trb_per_g        1740 non-null float64\n",
      "weight_lb        626 non-null object\n",
      "weight_lb_x      0 non-null float64\n",
      "weight_lb_y      934 non-null float64\n",
      "wingspan_in      563 non-null float64\n",
      "dtypes: float64(35), object(4)\n",
      "memory usage: 531.8+ KB\n"
     ]
    }
   ],
   "source": [
    "final_df.info()"
   ]
  },
  {
   "cell_type": "code",
   "execution_count": 13,
   "metadata": {
    "collapsed": false
   },
   "outputs": [],
   "source": [
    "salary_df = salary_df.drop_duplicates(['name','salary'])"
   ]
  },
  {
   "cell_type": "code",
   "execution_count": 14,
   "metadata": {
    "collapsed": false
   },
   "outputs": [],
   "source": [
    "add_name_index(salary_df)"
   ]
  },
  {
   "cell_type": "code",
   "execution_count": 15,
   "metadata": {
    "collapsed": true
   },
   "outputs": [],
   "source": [
    "df = pd.merge(final_df, salary_df, on=['name', 'name_index'], how='left')"
   ]
  },
  {
   "cell_type": "code",
   "execution_count": 16,
   "metadata": {
    "collapsed": false
   },
   "outputs": [],
   "source": [
    "df.loc[(df.height_in.isnull())&(df.height_in_y.notnull()),'height_in'] = df.height_in_y\n",
    "df.loc[(df.weight_lb.isnull())&(df.weight_lb_y.notnull()),'weight_lb'] = df.weight_lb_y"
   ]
  },
  {
   "cell_type": "code",
   "execution_count": 17,
   "metadata": {
    "collapsed": false
   },
   "outputs": [],
   "source": [
    "\n",
    "# Not enough data on these features\n",
    "df = df.drop(['orb', 'tov', 'pf', 'height_in_x', 'height_in_y', 'weight_lb_x', 'weight_lb_y'], axis=1)"
   ]
  },
  {
   "cell_type": "code",
   "execution_count": 18,
   "metadata": {
    "collapsed": true
   },
   "outputs": [],
   "source": [
    "df['per'] = pd.to_numeric(df['per'], errors='force')"
   ]
  },
  {
   "cell_type": "code",
   "execution_count": 19,
   "metadata": {
    "collapsed": true
   },
   "outputs": [],
   "source": [
    "df.loc[df.weight_lb.str.isnumeric() == False, 'weight_lb'] = np.nan"
   ]
  },
  {
   "cell_type": "code",
   "execution_count": 20,
   "metadata": {
    "collapsed": true
   },
   "outputs": [],
   "source": [
    "df.weight_lb = pd.to_numeric(df.weight_lb,errors='ignore')"
   ]
  },
  {
   "cell_type": "code",
   "execution_count": 21,
   "metadata": {
    "collapsed": true
   },
   "outputs": [],
   "source": [
    "df.loc[(df.height_in==0), 'height_in'] = np.nan\n",
    "df.loc[(df.wingspan_in==0), 'wingspan_in'] = np.nan\n",
    "df.loc[(df.reach_in==0), 'reach_in'] = np.nan"
   ]
  },
  {
   "cell_type": "code",
   "execution_count": 22,
   "metadata": {
    "collapsed": false
   },
   "outputs": [],
   "source": [
    "df.to_csv('final_df.csv')"
   ]
  },
  {
   "cell_type": "code",
   "execution_count": 23,
   "metadata": {
    "collapsed": false
   },
   "outputs": [
    {
     "data": {
      "text/plain": [
       "reach_in       1.000000\n",
       "height_in      0.913513\n",
       "wingspan_in    0.903681\n",
       "Name: reach_in, dtype: float64"
      ]
     },
     "execution_count": 23,
     "metadata": {},
     "output_type": "execute_result"
    }
   ],
   "source": [
    "cor = df.corr()\n",
    "cor['reach_in'].sort_values(ascending=False)[:3]"
   ]
  },
  {
   "cell_type": "code",
   "execution_count": 24,
   "metadata": {
    "collapsed": false
   },
   "outputs": [
    {
     "data": {
      "text/plain": [
       "0.68962092699941246"
      ]
     },
     "execution_count": 24,
     "metadata": {},
     "output_type": "execute_result"
    }
   ],
   "source": [
    "# Create an empty model\n",
    "lr_wingspan = LinearRegression()\n",
    "df_wingspan = df[['height_in', 'wingspan_in']]\n",
    "df_wingspan = df_wingspan.dropna()\n",
    "X = df_wingspan['height_in'][:, np.newaxis]\n",
    "y = df_wingspan['wingspan_in']\n",
    "\n",
    "# Fit the model to the full dataset\n",
    "lr_wingspan.fit(X, y)\n",
    "# Print out the R^2 for the model against the full dataset\n",
    "lr_wingspan.score(X,y)"
   ]
  },
  {
   "cell_type": "code",
   "execution_count": 25,
   "metadata": {
    "collapsed": false
   },
   "outputs": [
    {
     "data": {
      "text/plain": [
       "0.83450571240710936"
      ]
     },
     "execution_count": 25,
     "metadata": {},
     "output_type": "execute_result"
    }
   ],
   "source": [
    "df_reach = df[['height_in', 'reach_in']]\n",
    "df_reach = df_reach.dropna()\n",
    "X = df_reach['height_in'][:, np.newaxis]\n",
    "y = df_reach['reach_in']\n",
    "lr_reach = LinearRegression()\n",
    "# Fit the model to the full dataset\n",
    "lr_reach.fit(X, y)\n",
    "# Print out the R^2 for the model against the full dataset\n",
    "lr_reach.score(X,y)"
   ]
  },
  {
   "cell_type": "code",
   "execution_count": 28,
   "metadata": {
    "collapsed": false
   },
   "outputs": [
    {
     "data": {
      "text/plain": [
       "mp     1.000000\n",
       "g      0.740903\n",
       "pts    0.728444\n",
       "Name: mp, dtype: float64"
      ]
     },
     "execution_count": 28,
     "metadata": {},
     "output_type": "execute_result"
    }
   ],
   "source": [
    "cor['mp'].sort_values(ascending=False)[:3]"
   ]
  },
  {
   "cell_type": "code",
   "execution_count": 30,
   "metadata": {
    "collapsed": false
   },
   "outputs": [
    {
     "data": {
      "text/plain": [
       "0.54893782820715997"
      ]
     },
     "execution_count": 30,
     "metadata": {},
     "output_type": "execute_result"
    }
   ],
   "source": [
    "df_mp = df[['mp', 'g']]\n",
    "df_mp = df_mp.dropna()\n",
    "X = df_mp['g'][:, np.newaxis]\n",
    "y = df_mp['mp']\n",
    "lr_mp = LinearRegression()\n",
    "# Fit the model to the full dataset\n",
    "lr_mp.fit(X,y)\n",
    "# Print out the R^2 for the model against the full dataset\n",
    "lr_mp.score(X,y)"
   ]
  },
  {
   "cell_type": "code",
   "execution_count": 31,
   "metadata": {
    "collapsed": true
   },
   "outputs": [],
   "source": [
    "mask = (df.height_in.notnull()) & (df.wingspan_in.isnull())\n",
    "wingspan_predictions = lr_wingspan.predict(df[mask].height_in[:,np.newaxis])\n",
    "df.loc[mask, 'wingspan_in'] = wingspan_predictions"
   ]
  },
  {
   "cell_type": "code",
   "execution_count": 32,
   "metadata": {
    "collapsed": true
   },
   "outputs": [],
   "source": [
    "mask = (df.height_in.notnull()) & (df.reach_in.isnull())\n",
    "reach_predictions = lr_reach.predict(df[mask].height_in[:,np.newaxis])\n",
    "df.loc[mask, 'reach_in'] = reach_predictions"
   ]
  },
  {
   "cell_type": "code",
   "execution_count": 33,
   "metadata": {
    "collapsed": true
   },
   "outputs": [],
   "source": [
    "mask = (df.g.notnull()) & (df.mp.isnull())\n",
    "mp_predictions = lr_mp.predict(df[mask].g[:,np.newaxis])\n",
    "df.loc[mask, 'mp'] = mp_predictions"
   ]
  },
  {
   "cell_type": "code",
   "execution_count": 35,
   "metadata": {
    "collapsed": true
   },
   "outputs": [],
   "source": [
    "def fill_null_with_average(column):\n",
    "    mean = df[column].mean()\n",
    "    df.loc[df[column].isnull(), column] = mean\n",
    "\n",
    "# fill_null_with_average('height_in')\n",
    "for col in ['height_in', 'weight_lb', 'mp', 'fg3_pct', 'mp_per_g', 'blk', 'stl', 'reach_in', 'wingspan_in']:\n",
    "    fill_null_with_average(col)\n",
    "\n"
   ]
  },
  {
   "cell_type": "code",
   "execution_count": 36,
   "metadata": {
    "collapsed": true
   },
   "outputs": [],
   "source": [
    "# PER above 30 is not possible.\n",
    "df[df.per > 30] = np.nan\n",
    "# we're getting inconsistent PER with the last nba picks\n",
    "df = df.loc[df.draft_year<2016]\n",
    "\n",
    "# Remove fg3_pct == 1 or fg3 < 5\n",
    "df.loc[df.fg3 < 5,'fg3_pct'] = df.fg3_pct.mean()"
   ]
  },
  {
   "cell_type": "code",
   "execution_count": 38,
   "metadata": {
    "collapsed": false
   },
   "outputs": [
    {
     "data": {
      "text/plain": [
       "410     Marcus Williams\n",
       "558    Tristan Thompson\n",
       "655        Nerlens Noel\n",
       "Name: name, dtype: object"
      ]
     },
     "execution_count": 38,
     "metadata": {},
     "output_type": "execute_result"
    }
   ],
   "source": [
    "df[df.shoot.isnull()]['name']"
   ]
  },
  {
   "cell_type": "markdown",
   "metadata": {},
   "source": [
    "# Research\n",
    "- researched online for these two people\n",
    "- Tristan Thompson switched from left to right hand.\n",
    "- Nerlens Noel can shoot from both hands."
   ]
  },
  {
   "cell_type": "code",
   "execution_count": 39,
   "metadata": {
    "collapsed": true
   },
   "outputs": [],
   "source": [
    "df.loc[df.name=='Tristan Thompson', 'shoot'] = 'switch'\n",
    "df.loc[df.name=='Nerlens Noel', 'shoot'] = 'both'"
   ]
  },
  {
   "cell_type": "code",
   "execution_count": null,
   "metadata": {
    "collapsed": false
   },
   "outputs": [],
   "source": []
  },
  {
   "cell_type": "code",
   "execution_count": 41,
   "metadata": {
    "collapsed": true
   },
   "outputs": [],
   "source": [
    "df.to_csv('data/data_salary.csv')"
   ]
  },
  {
   "cell_type": "code",
   "execution_count": null,
   "metadata": {
    "collapsed": true
   },
   "outputs": [],
   "source": []
  }
 ],
 "metadata": {
  "anaconda-cloud": {},
  "kernelspec": {
   "display_name": "Python [conda root]",
   "language": "python",
   "name": "conda-root-py"
  },
  "language_info": {
   "codemirror_mode": {
    "name": "ipython",
    "version": 3
   },
   "file_extension": ".py",
   "mimetype": "text/x-python",
   "name": "python",
   "nbconvert_exporter": "python",
   "pygments_lexer": "ipython3",
   "version": "3.5.2"
  }
 },
 "nbformat": 4,
 "nbformat_minor": 1
}
