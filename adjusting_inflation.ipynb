{
 "cells": [
  {
   "cell_type": "code",
   "execution_count": 73,
   "metadata": {
    "collapsed": false
   },
   "outputs": [],
   "source": [
    "# add older data to the set \n",
    "import pandas as pd\n",
    "import time\n",
    "import scraping\n",
    "import constants\n",
    "import os\n",
    "import numpy as np\n",
    "import re\n",
    "import seaborn as sns\n",
    "from bs4 import BeautifulSoup\n",
    "import pickle\n",
    "import requests\n",
    "\n",
    "\n",
    "from sklearn.linear_model import LinearRegression\n",
    "from sklearn.model_selection import train_test_split\n",
    "from sklearn.pipeline import make_pipeline\n",
    "from sklearn.model_selection  import KFold\n",
    "from sklearn import preprocessing\n",
    "\n",
    "import patsy\n",
    "import statsmodels.api as sm\n",
    "import os\n",
    "\n",
    "from selenium import webdriver\n",
    "from selenium.webdriver.common.keys import Keys"
   ]
  },
  {
   "cell_type": "code",
   "execution_count": 63,
   "metadata": {
    "collapsed": true
   },
   "outputs": [],
   "source": [
    "def money_to_int(m):\n",
    "    m = m[1:]\n",
    "    return float(m)"
   ]
  },
  {
   "cell_type": "code",
   "execution_count": 66,
   "metadata": {
    "collapsed": false
   },
   "outputs": [],
   "source": [
    "\n",
    "link = 'https://data.bls.gov/cgi-bin/cpicalc.pl?cost1=1&year1={}&year2=2016'\n",
    "def get_multiplier(year):\n",
    "    result = requests.get(link.format(year))\n",
    "    assert (result.status_code == 200),\"Can't fetch main draft page\"\n",
    "    soup = BeautifulSoup(result.text, 'html.parser')\n",
    "    multiplier = money_to_int(soup.find(id='answer').text)\n",
    "    return multiplier"
   ]
  },
  {
   "cell_type": "code",
   "execution_count": 69,
   "metadata": {
    "collapsed": false
   },
   "outputs": [],
   "source": [
    "multiplier_dict = {}"
   ]
  },
  {
   "cell_type": "code",
   "execution_count": 70,
   "metadata": {
    "collapsed": false
   },
   "outputs": [],
   "source": [
    "for i in range(1983, 2017):\n",
    "    multiplier_dict[i] = get_multiplier(i)"
   ]
  },
  {
   "cell_type": "code",
   "execution_count": 74,
   "metadata": {
    "collapsed": false
   },
   "outputs": [],
   "source": [
    "with open('data/inflation_multiplier.pkl','wb') as f:\n",
    "    pickle.dump(multiplier_dict,f)"
   ]
  },
  {
   "cell_type": "code",
   "execution_count": null,
   "metadata": {
    "collapsed": true
   },
   "outputs": [],
   "source": []
  }
 ],
 "metadata": {
  "anaconda-cloud": {},
  "kernelspec": {
   "display_name": "Python [conda root]",
   "language": "python",
   "name": "conda-root-py"
  },
  "language_info": {
   "codemirror_mode": {
    "name": "ipython",
    "version": 3
   },
   "file_extension": ".py",
   "mimetype": "text/x-python",
   "name": "python",
   "nbconvert_exporter": "python",
   "pygments_lexer": "ipython3",
   "version": "3.5.2"
  }
 },
 "nbformat": 4,
 "nbformat_minor": 1
}
