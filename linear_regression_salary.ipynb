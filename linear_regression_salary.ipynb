{
 "cells": [
  {
   "cell_type": "code",
   "execution_count": 1,
   "metadata": {
    "collapsed": true
   },
   "outputs": [],
   "source": [
    "# aim : predict earnings for foreign movies in the US\n",
    "from bs4 import BeautifulSoup\n",
    "import requests\n",
    "import pandas as pd\n",
    "import time\n",
    "import scraping\n",
    "import constants\n",
    "import os\n",
    "import numpy as np\n",
    "import re\n",
    "import seaborn as sns\n",
    "import pickle\n",
    "from sklearn.linear_model import LinearRegression\n",
    "from sklearn.linear_model import RidgeCV\n",
    "from seaborn import plt\n",
    "\n",
    "from sklearn.preprocessing import PolynomialFeatures\n",
    "from sklearn.pipeline import make_pipeline\n",
    "from sklearn.linear_model import Ridge\n",
    "from sklearn.linear_model import Lasso\n",
    "\n",
    "\n",
    "from sklearn.linear_model import LinearRegression\n",
    "from sklearn.model_selection import train_test_split\n",
    "from sklearn.pipeline import make_pipeline\n",
    "from sklearn.model_selection  import KFold\n",
    "from sklearn import preprocessing\n",
    "\n",
    "import scipy.stats as stats\n",
    "import patsy\n",
    "import statsmodels.api as sm\n",
    "%matplotlib inline"
   ]
  },
  {
   "cell_type": "code",
   "execution_count": 2,
   "metadata": {
    "collapsed": false
   },
   "outputs": [],
   "source": [
    "df = pd.read_csv('data/data_salary.csv', index_col=0)"
   ]
  },
  {
   "cell_type": "code",
   "execution_count": 3,
   "metadata": {
    "collapsed": false
   },
   "outputs": [],
   "source": [
    "df = df.dropna()"
   ]
  },
  {
   "cell_type": "markdown",
   "metadata": {},
   "source": [
    "# Adjust for inflation\n"
   ]
  },
  {
   "cell_type": "code",
   "execution_count": 4,
   "metadata": {
    "collapsed": false
   },
   "outputs": [],
   "source": [
    "with open ('data/inflation_multiplier.pkl', 'rb') as fp:\n",
    "    inflation_mult = pickle.load(fp)"
   ]
  },
  {
   "cell_type": "code",
   "execution_count": 5,
   "metadata": {
    "collapsed": false
   },
   "outputs": [],
   "source": [
    "df['inflation'] = df['draft_year'].map(inflation_mult)"
   ]
  },
  {
   "cell_type": "code",
   "execution_count": 6,
   "metadata": {
    "collapsed": false
   },
   "outputs": [],
   "source": [
    "df['adjusted_salary'] = df['inflation'] * df['salary']"
   ]
  },
  {
   "cell_type": "code",
   "execution_count": 7,
   "metadata": {
    "collapsed": false
   },
   "outputs": [],
   "source": [
    "df.birthday = pd.to_datetime(df.birthday)"
   ]
  },
  {
   "cell_type": "code",
   "execution_count": 8,
   "metadata": {
    "collapsed": true
   },
   "outputs": [],
   "source": [
    "df['month'] = df.birthday.dt.month"
   ]
  },
  {
   "cell_type": "code",
   "execution_count": 9,
   "metadata": {
    "collapsed": true
   },
   "outputs": [],
   "source": [
    "def basic_plot(x_col, y_col, df, ax, x_label=None, y_label=None):\n",
    "    if not x_label:\n",
    "        x_label = x_col \n",
    "    if not y_label:\n",
    "        y_label = y_col\n",
    "    ax.scatter(df[x_col], df[y_col], label=y_label)\n",
    "    ax.set_xlabel(x_label)\n",
    "    ax.set_ylabel(y_label)\n",
    "    ax.set_title('{} vs. {}'.format(x_label, y_label))\n",
    "    "
   ]
  },
  {
   "cell_type": "code",
   "execution_count": 10,
   "metadata": {
    "collapsed": false
   },
   "outputs": [],
   "source": [
    "df.loc[df.position.str.contains('Center'), 'center'] = 1\n",
    "df.loc[~df.position.str.contains('Center'), 'center'] = 0\n",
    "df.loc[df.position.str.contains('Guard'), 'guard'] = 1\n",
    "df.loc[~df.position.str.contains('Guard'), 'guard'] = 0\n",
    "df.loc[df.position.str.contains('Forward'), 'forward'] = 1\n",
    "df.loc[~df.position.str.contains('Forward'), 'forward'] = 0"
   ]
  },
  {
   "cell_type": "code",
   "execution_count": 11,
   "metadata": {
    "collapsed": false
   },
   "outputs": [
    {
     "data": {
      "text/html": [
       "<div>\n",
       "<table border=\"1\" class=\"dataframe\">\n",
       "  <thead>\n",
       "    <tr style=\"text-align: right;\">\n",
       "      <th></th>\n",
       "      <th>name</th>\n",
       "      <th>adjusted_salary</th>\n",
       "      <th>draft_rank</th>\n",
       "      <th>per</th>\n",
       "      <th>draft_year</th>\n",
       "    </tr>\n",
       "  </thead>\n",
       "  <tbody>\n",
       "    <tr>\n",
       "      <th>1045</th>\n",
       "      <td>Michael Jordan</td>\n",
       "      <td>1270500.0</td>\n",
       "      <td>3.0</td>\n",
       "      <td>27.9</td>\n",
       "      <td>1984.0</td>\n",
       "    </tr>\n",
       "  </tbody>\n",
       "</table>\n",
       "</div>"
      ],
      "text/plain": [
       "                name  adjusted_salary  draft_rank   per  draft_year\n",
       "1045  Michael Jordan        1270500.0         3.0  27.9      1984.0"
      ]
     },
     "execution_count": 11,
     "metadata": {},
     "output_type": "execute_result"
    }
   ],
   "source": [
    "df[df.name == 'Michael Jordan'][['name', 'adjusted_salary','draft_rank', 'per','draft_year',]]"
   ]
  },
  {
   "cell_type": "code",
   "execution_count": 12,
   "metadata": {
    "collapsed": false
   },
   "outputs": [
    {
     "data": {
      "text/plain": [
       "Index(['ast', 'ast_per_g', 'blk', 'college', 'draft_rank', 'draft_year',\n",
       "       'end_age', 'fg', 'fg3', 'fg3_pct', 'fg3a', 'fg_pct', 'fga', 'ft',\n",
       "       'ft_pct', 'fta', 'g', 'height_in', 'mp', 'mp_per_g', 'name',\n",
       "       'name_index', 'no_of_seasons', 'per', 'pts', 'pts_per_g', 'reach_in',\n",
       "       'start_age', 'stl', 'trb_per_g', 'weight_lb', 'wingspan_in', 'salary',\n",
       "       'position', 'birthday', 'shoot', 'inflation', 'adjusted_salary',\n",
       "       'month', 'center', 'guard', 'forward'],\n",
       "      dtype='object')"
      ]
     },
     "execution_count": 12,
     "metadata": {},
     "output_type": "execute_result"
    }
   ],
   "source": [
    "df.columns"
   ]
  },
  {
   "cell_type": "markdown",
   "metadata": {},
   "source": [
    "# Regularization"
   ]
  },
  {
   "cell_type": "code",
   "execution_count": 13,
   "metadata": {
    "collapsed": false
   },
   "outputs": [],
   "source": [
    "# The numerical columns\n",
    "x_columns = ['ast', 'ast_per_g', 'blk', 'draft_rank', 'draft_year',\n",
    "       'end_age', 'fg', 'fg3', 'fg3_pct', 'fg3a', 'fg_pct', 'fga', 'ft',\n",
    "       'ft_pct', 'fta', 'g', 'height_in', 'mp', 'mp_per_g',\n",
    "       'no_of_seasons', 'pts', 'pts_per_g', 'reach_in',\n",
    "       'start_age', 'stl', 'trb_per_g', 'weight_lb', 'wingspan_in',\n",
    "        'adjusted_salary', 'month'] # need to add shoot and position\n",
    "def preprocess(df, cols = None, intercept=False):\n",
    "    if not cols:\n",
    "        cols = x_columns\n",
    "    y_data = df['per']\n",
    "    X_data = df[cols]\n",
    "    X_sc=preprocessing.normalize(X_data, axis=0, norm='max')\n",
    "    # turn back in DF\n",
    "    X_sc=pd.DataFrame(X_sc)\n",
    "    X_sc.columns = cols\n",
    "    X_data.columns = cols\n",
    "    return X_sc, y_data, X_data"
   ]
  },
  {
   "cell_type": "code",
   "execution_count": 14,
   "metadata": {
    "collapsed": false
   },
   "outputs": [],
   "source": [
    "folds = 4\n",
    "alpha_list=[1e-5,1e-3,1e-2, 1e-1,1, 10, 1e4]\n",
    "def pick_alpha(fold, X, y, alphas=None):\n",
    "    if not alphas:\n",
    "        alphas = alpha_list\n",
    "    kf = KFold(n_splits=fold)\n",
    "\n",
    "    all_scores=[]\n",
    "\n",
    "\n",
    "    for train, test in kf.split(X):\n",
    "        x_train=X.iloc[train]\n",
    "        y_train=y.iloc[train]\n",
    "        x_test=X.iloc[test]\n",
    "        y_test=y.iloc[test]\n",
    "        mse_score=[]\n",
    "        for a in alphas:\n",
    "            est=Lasso(alpha=a)\n",
    "            est.fit(x_train,y_train)\n",
    "            mse=np.mean((y_test-est.predict(x_test))**2)\n",
    "            mse_score.append(mse)\n",
    "        all_scores.append(mse_score)\n",
    "    plt.figure(figsize=(8,6))\n",
    "    plt.legend()\n",
    "    for i in range(fold):\n",
    "        plt.plot(np.log10(alphas), all_scores[i],label = 'cv %s'%i)\n",
    "    # Calculate the mean and plot it\n",
    "    mean = np.array(all_scores).mean(axis=0).tolist()\n",
    "    plt.plot(np.log10(alphas), mean, label = 'mean')\n",
    "    plt.legend()\n",
    "    plt.xlabel('alphas')\n",
    "    plt.ylabel('MSE')\n",
    "    plt.ylim(0)\n",
    "    plt.show()"
   ]
  },
  {
   "cell_type": "markdown",
   "metadata": {},
   "source": [
    "# First Iteration"
   ]
  },
  {
   "cell_type": "code",
   "execution_count": 15,
   "metadata": {
    "collapsed": false
   },
   "outputs": [
    {
     "name": "stderr",
     "output_type": "stream",
     "text": [
      "/Users/josephinetirtanata/anaconda/lib/python3.5/site-packages/sklearn/linear_model/coordinate_descent.py:484: ConvergenceWarning: Objective did not converge. You might want to increase the number of iterations. Fitting data with very small alpha may cause precision problems.\n",
      "  ConvergenceWarning)\n",
      "/Users/josephinetirtanata/anaconda/lib/python3.5/site-packages/matplotlib/axes/_axes.py:531: UserWarning: No labelled objects found. Use label='...' kwarg on individual plots.\n",
      "  warnings.warn(\"No labelled objects found. \"\n"
     ]
    },
    {
     "data": {
      "image/png": "[encoded data removed]",
      "text/plain": [
       "<matplotlib.figure.Figure at 0x1047dab00>"
      ]
     },
     "metadata": {},
     "output_type": "display_data"
    }
   ],
   "source": [
    "X_sc, y_data, X_data = preprocess(df)\n",
    "pick_alpha(4, X_sc, y_data)"
   ]
  },
  {
   "cell_type": "markdown",
   "metadata": {},
   "source": [
    "# Alpha\n",
    "- It seems like 1e-2 is the best value\n",
    "- Now, let's take a look at the strongest features"
   ]
  },
  {
   "cell_type": "code",
   "execution_count": 16,
   "metadata": {
    "collapsed": false
   },
   "outputs": [],
   "source": [
    "# Take a quick look at our strongest features\n",
    "def find_features(alpha, X, y, columns):\n",
    "    X_train, X_test, y_train, y_test = train_test_split(X, y, test_size=0.2)\n",
    "    est=Lasso(alpha=alpha)\n",
    "    est.fit(X_train,y_train)\n",
    "    zipped=zip(columns,est.coef_)\n",
    "    features=sorted(zipped,key = lambda t: t[1],reverse=True)\n",
    "    print(est.score(X_test, y_test))\n",
    "    return [x for x in features if x[1] != 0] ,est\n",
    "def print_summary (features, X, y):\n",
    "    features = [x[0] for x in features]\n",
    "    X_features = X[features]\n",
    "    lsm = sm.OLS(y,X_features)\n",
    "    fit = lsm.fit()\n",
    "    fit.summary()\n"
   ]
  },
  {
   "cell_type": "code",
   "execution_count": 17,
   "metadata": {
    "collapsed": false
   },
   "outputs": [
    {
     "name": "stdout",
     "output_type": "stream",
     "text": [
      "0.307936797645\n"
     ]
    }
   ],
   "source": [
    "features,est = find_features(1e-2, X_sc, y_data, X_sc.columns)"
   ]
  },
  {
   "cell_type": "code",
   "execution_count": 18,
   "metadata": {
    "collapsed": false
   },
   "outputs": [
    {
     "data": {
      "text/plain": [
       "[('fg_pct', 9.1097464347011972),\n",
       " ('adjusted_salary', 3.9172194400710687),\n",
       " ('stl', 2.8428576576333491),\n",
       " ('ft_pct', 1.9383010400473994),\n",
       " ('pts_per_g', 1.8616305204560277),\n",
       " ('blk', 1.547951957175276),\n",
       " ('trb_per_g', 1.3600278440487907),\n",
       " ('ast_per_g', 1.0138468673574206),\n",
       " ('ast', 0.61793066540312958),\n",
       " ('mp', 0.50513535458189363),\n",
       " ('month', -0.31020759914789847),\n",
       " ('weight_lb', -0.34019008147650515),\n",
       " ('fg3a', -1.2755900902600199),\n",
       " ('g', -2.113988715655053),\n",
       " ('draft_rank', -4.2761455249321445),\n",
       " ('end_age', -5.8621284875073885)]"
      ]
     },
     "execution_count": 18,
     "metadata": {},
     "output_type": "execute_result"
    }
   ],
   "source": [
    "features"
   ]
  },
  {
   "cell_type": "code",
   "execution_count": 158,
   "metadata": {
    "collapsed": false
   },
   "outputs": [],
   "source": [
    "def print_coef(f, coef):\n",
    "    zipped=zip(f,coef)\n",
    "    features=sorted(zipped,key = lambda t: t[1],reverse=True)\n",
    "    for (a,b) in features:\n",
    "        print ('{}\\t\\t\\t{}'.format(a,b))\n"
   ]
  },
  {
   "cell_type": "markdown",
   "metadata": {},
   "source": [
    "#  Without adjusted salary\n",
    "## Unscaled"
   ]
  },
  {
   "cell_type": "code",
   "execution_count": 166,
   "metadata": {
    "collapsed": false
   },
   "outputs": [
    {
     "data": {
      "text/plain": [
       "0.23438215742178292"
      ]
     },
     "execution_count": 166,
     "metadata": {},
     "output_type": "execute_result"
    }
   ],
   "source": [
    "rcv = RidgeCV(cv=10)\n",
    "f = [x[0] for x in features]\n",
    "if 'adjusted_salary' in f:\n",
    "    f.remove('adjusted_salary')\n",
    "X_sc, y_data, X_data = preprocess(df, cols=f)\n",
    "xtrain, xtest, ytrain, ytest = train_test_split(X_data, y, test_size=0.3)\n",
    "\n",
    "rcv.fit(X_data, y)\n",
    "rcv.score(xtest, ytest)\n"
   ]
  },
  {
   "cell_type": "code",
   "execution_count": 167,
   "metadata": {
    "collapsed": false
   },
   "outputs": [
    {
     "data": {
      "text/plain": [
       "13.640229113092689"
      ]
     },
     "execution_count": 167,
     "metadata": {},
     "output_type": "execute_result"
    }
   ],
   "source": [
    "rcv.intercept_"
   ]
  },
  {
   "cell_type": "code",
   "execution_count": 168,
   "metadata": {
    "collapsed": false
   },
   "outputs": [
    {
     "name": "stdout",
     "output_type": "stream",
     "text": [
      "fg_pct\t\t\t19.662222163529883\n",
      "ft_pct\t\t\t4.858292255325513\n",
      "ast_per_g\t\t\t0.2188401169825615\n",
      "trb_per_g\t\t\t0.18880680043523182\n",
      "pts_per_g\t\t\t0.03217625872069718\n",
      "stl\t\t\t0.011508641942250966\n",
      "blk\t\t\t0.005633734570636035\n",
      "fg3a\t\t\t-0.0007388359305236035\n",
      "weight_lb\t\t\t-0.010006467758676422\n",
      "g\t\t\t-0.016134496587202642\n",
      "draft_rank\t\t\t-0.059730009040545845\n",
      "end_age\t\t\t-0.6088984804754476\n"
     ]
    }
   ],
   "source": [
    "print_coef(f, rcv.coef_)"
   ]
  },
  {
   "cell_type": "markdown",
   "metadata": {},
   "source": [
    "## Scaled"
   ]
  },
  {
   "cell_type": "code",
   "execution_count": 169,
   "metadata": {
    "collapsed": false
   },
   "outputs": [
    {
     "data": {
      "text/plain": [
       "0.35321396285880874"
      ]
     },
     "execution_count": 169,
     "metadata": {},
     "output_type": "execute_result"
    }
   ],
   "source": [
    "rcv = RidgeCV(cv=10)\n",
    "\n",
    "xtrain, xtest, ytrain, ytest = train_test_split(X_sc, y, test_size=0.3)\n",
    "rcv.fit(X_sc, y)\n",
    "rcv.score(xtest, ytest)\n"
   ]
  },
  {
   "cell_type": "code",
   "execution_count": 170,
   "metadata": {
    "collapsed": false
   },
   "outputs": [
    {
     "name": "stdout",
     "output_type": "stream",
     "text": [
      "fg_pct\t\t\t10.834557783473933\n",
      "stl\t\t\t3.852886180734736\n",
      "ft_pct\t\t\t3.6567048283351\n",
      "blk\t\t\t2.882406798667162\n",
      "trb_per_g\t\t\t2.2820048536165456\n",
      "ast_per_g\t\t\t1.8154701927651156\n",
      "pts_per_g\t\t\t1.499742366865473\n",
      "fg3a\t\t\t-1.3147051560507619\n",
      "weight_lb\t\t\t-2.419714897995886\n",
      "g\t\t\t-2.7410513558752547\n",
      "draft_rank\t\t\t-6.904973971359178\n",
      "end_age\t\t\t-9.5335798668147\n"
     ]
    }
   ],
   "source": [
    "print_coef(f, rcv.coef_)"
   ]
  },
  {
   "cell_type": "code",
   "execution_count": 171,
   "metadata": {
    "collapsed": false
   },
   "outputs": [
    {
     "data": {
      "text/plain": [
       "11.134064759509783"
      ]
     },
     "execution_count": 171,
     "metadata": {},
     "output_type": "execute_result"
    }
   ],
   "source": [
    "rcv.intercept_"
   ]
  },
  {
   "cell_type": "markdown",
   "metadata": {},
   "source": [
    "# With adjusted salary\n",
    "## Unscaled"
   ]
  },
  {
   "cell_type": "code",
   "execution_count": 172,
   "metadata": {
    "collapsed": false
   },
   "outputs": [
    {
     "data": {
      "text/plain": [
       "0.26044536285779651"
      ]
     },
     "execution_count": 172,
     "metadata": {},
     "output_type": "execute_result"
    }
   ],
   "source": [
    "rcv = RidgeCV(cv=10)\n",
    "f = [x[0] for x in features]\n",
    "X_sc, y_data, X_data = preprocess(df, cols=f)\n",
    "xtrain, xtest, ytrain, ytest = train_test_split(X_data, y, test_size=0.3)\n",
    "\n",
    "rcv.fit(X_data, y)\n",
    "rcv.score(xtest, ytest)\n"
   ]
  },
  {
   "cell_type": "code",
   "execution_count": 173,
   "metadata": {
    "collapsed": false
   },
   "outputs": [
    {
     "data": {
      "text/plain": [
       "11.467385149652214"
      ]
     },
     "execution_count": 173,
     "metadata": {},
     "output_type": "execute_result"
    }
   ],
   "source": [
    "rcv.intercept_"
   ]
  },
  {
   "cell_type": "code",
   "execution_count": 175,
   "metadata": {
    "collapsed": false
   },
   "outputs": [
    {
     "name": "stdout",
     "output_type": "stream",
     "text": [
      "fg_pct\t\t\t18.442821830597698\n",
      "ft_pct\t\t\t4.412257599617287\n",
      "ast_per_g\t\t\t0.16108479609778378\n",
      "trb_per_g\t\t\t0.15636947098507512\n",
      "pts_per_g\t\t\t0.048298173547996315\n",
      "stl\t\t\t0.011964366038838258\n",
      "blk\t\t\t0.004929634647750704\n",
      "adjusted_salary\t\t\t6.533868121174185e-07\n",
      "fg3a\t\t\t-0.0013237050764076102\n",
      "weight_lb\t\t\t-0.012611924551660575\n",
      "g\t\t\t-0.013184438334454282\n",
      "draft_rank\t\t\t-0.02868963913559157\n",
      "end_age\t\t\t-0.5175554253515836\n"
     ]
    }
   ],
   "source": [
    "print_coef(f, rcv.coef_)"
   ]
  },
  {
   "cell_type": "markdown",
   "metadata": {},
   "source": [
    "## Scaled"
   ]
  },
  {
   "cell_type": "code",
   "execution_count": 176,
   "metadata": {
    "collapsed": false
   },
   "outputs": [
    {
     "data": {
      "text/plain": [
       "0.32511377045937012"
      ]
     },
     "execution_count": 176,
     "metadata": {},
     "output_type": "execute_result"
    }
   ],
   "source": [
    "rcs = RidgeCV(cv=10)\n",
    "xtrain, xtest, ytrain, ytest = train_test_split(X_sc, y, test_size=0.3)\n",
    "rcs.fit(X_sc, y)\n",
    "rcs.score(xtest, ytest)"
   ]
  },
  {
   "cell_type": "code",
   "execution_count": 177,
   "metadata": {
    "collapsed": false
   },
   "outputs": [
    {
     "name": "stdout",
     "output_type": "stream",
     "text": [
      "fg_pct\t\t\t10.109858915057917\n",
      "adjusted_salary\t\t\t4.0939933400345785\n",
      "stl\t\t\t4.06555931160913\n",
      "ft_pct\t\t\t3.2996470285924135\n",
      "blk\t\t\t2.472617828686838\n",
      "pts_per_g\t\t\t1.9276265121574678\n",
      "trb_per_g\t\t\t1.8585912373841984\n",
      "ast_per_g\t\t\t1.3336404117612237\n",
      "fg3a\t\t\t-1.9427793689288282\n",
      "g\t\t\t-2.171088959567595\n",
      "weight_lb\t\t\t-3.1409558439586602\n",
      "draft_rank\t\t\t-3.3542051322694224\n",
      "end_age\t\t\t-7.864409199420768\n"
     ]
    }
   ],
   "source": [
    "print_coef(f, rcs.coef_)"
   ]
  },
  {
   "cell_type": "code",
   "execution_count": 179,
   "metadata": {
    "collapsed": false
   },
   "outputs": [
    {
     "data": {
      "text/plain": [
       "9.1253150610280489"
      ]
     },
     "execution_count": 179,
     "metadata": {},
     "output_type": "execute_result"
    }
   ],
   "source": [
    "rcs.intercept_\n"
   ]
  }
 ],
 "metadata": {
  "anaconda-cloud": {},
  "kernelspec": {
   "display_name": "Python [conda root]",
   "language": "python",
   "name": "conda-root-py"
  },
  "language_info": {
   "codemirror_mode": {
    "name": "ipython",
    "version": 3
   },
   "file_extension": ".py",
   "mimetype": "text/x-python",
   "name": "python",
   "nbconvert_exporter": "python",
   "pygments_lexer": "ipython3",
   "version": "3.5.2"
  }
 },
 "nbformat": 4,
 "nbformat_minor": 1
}
